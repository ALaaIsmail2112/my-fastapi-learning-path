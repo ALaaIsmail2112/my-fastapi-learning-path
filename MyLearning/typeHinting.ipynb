{
 "cells": [
  {
   "cell_type": "code",
   "execution_count": null,
   "id": "69807288",
   "metadata": {},
   "outputs": [
    {
     "name": "stdout",
     "output_type": "stream",
     "text": [
      "John Doe\n"
     ]
    }
   ],
   "source": [
    "def get_full_name(first_name, last_name):\n",
    "    full_name = first_name.title() + \" \" + last_name.title()\n",
    "    return full_name\n",
    "\n",
    "# note \n",
    "# if we ctrl+space to make some suggestions to first name as to title it will give us no sugesstions\n",
    "# so it this case will appear important use of tye hinting \n",
    "\n",
    "print(get_full_name(\"john\", \"doe\"))"
   ]
  },
  {
   "cell_type": "code",
   "execution_count": null,
   "id": "8b571697",
   "metadata": {},
   "outputs": [],
   "source": [
    "def get_full_name(first_name :str, last_name:str):\n",
    "    full_name = first_name.title() + \" \" + last_name.title()\n",
    "    return full_name\n",
    "# if we ctrl+space to make some suggestions to first name as to title it will give us  sugesstions as title and other\n",
    "print(get_full_name(\"john\", \"doe\"))"
   ]
  },
  {
   "cell_type": "markdown",
   "id": "120b36b4",
   "metadata": {},
   "source": [
    "Some of instructions \n",
    "1 - use colon : in type hint \n",
    "2 - there are two type of types \n",
    "    1 - standard types ... int , str , float , bool\n",
    "    2 - generic types ... list , Column , set , tuple , dict \n",
    "        Note ... we get of them from typing library \n",
    "        Note ... each generic type can have more than one standard type as list[str , float ]\n",
    "    3 - we can convert type from type as str (int) ... will give us string and can we concatenate with other strings \n",
    "4 - we have case to one parameter gave more than one type using something called **Union or Optional** \n",
    "    Note ... we get optional from typing library \n",
    "    ex ...\n",
    "            def process_item(item: int | str):\n",
    "                print(item)\n",
    "    ex using optional \n",
    "        from typing import Optional\n",
    "\n",
    "\n",
    "def say_hi(name: Optional[str] = None):\n",
    "    if name is not None:\n",
    "        print(f\"Hey {name}!\")\n",
    "    else:\n",
    "        print(\"Hello World\")\n",
    "\n",
    "    Note ... optional must have a vaule , but it is not optional, you cannot call the function without the parameter\n",
    "\n"
   ]
  },
  {
   "cell_type": "code",
   "execution_count": null,
   "id": "3418dd70",
   "metadata": {},
   "outputs": [],
   "source": [
    "# example of use optional\n",
    "from typing import Optional\n",
    "\n",
    "\n",
    "def say_hi(name: Optional[str]):\n",
    "    print(f\"Hey {name}!\")"
   ]
  },
  {
   "cell_type": "code",
   "execution_count": null,
   "id": "e2127ad6",
   "metadata": {},
   "outputs": [
    {
     "ename": "TypeError",
     "evalue": "say_hi() missing 1 required positional argument: 'name'",
     "output_type": "error",
     "traceback": [
      "\u001b[1;31m---------------------------------------------------------------------------\u001b[0m",
      "\u001b[1;31mTypeError\u001b[0m                                 Traceback (most recent call last)",
      "Cell \u001b[1;32mIn[5], line 1\u001b[0m\n\u001b[1;32m----> 1\u001b[0m \u001b[43msay_hi\u001b[49m\u001b[43m(\u001b[49m\u001b[43m)\u001b[49m\n",
      "\u001b[1;31mTypeError\u001b[0m: say_hi() missing 1 required positional argument: 'name'"
     ]
    }
   ],
   "source": [
    "say_hi() # it give us error because it must have a paramter "
   ]
  },
  {
   "cell_type": "code",
   "execution_count": 2,
   "id": "643fb12d",
   "metadata": {},
   "outputs": [
    {
     "name": "stdout",
     "output_type": "stream",
     "text": [
      "0.116.1\n"
     ]
    }
   ],
   "source": [
    "import fastapi\n",
    "print(fastapi.__version__)\n"
   ]
  }
 ],
 "metadata": {
  "kernelspec": {
   "display_name": "Python 3",
   "language": "python",
   "name": "python3"
  },
  "language_info": {
   "codemirror_mode": {
    "name": "ipython",
    "version": 3
   },
   "file_extension": ".py",
   "mimetype": "text/x-python",
   "name": "python",
   "nbconvert_exporter": "python",
   "pygments_lexer": "ipython3",
   "version": "3.10.9"
  }
 },
 "nbformat": 4,
 "nbformat_minor": 5
}
